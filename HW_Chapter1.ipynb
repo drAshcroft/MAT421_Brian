{
  "nbformat": 4,
  "nbformat_minor": 0,
  "metadata": {
    "colab": {
      "provenance": [],
      "authorship_tag": "ABX9TyOefY7GR14eN7SbKXeR5Ax6",
      "include_colab_link": true
    },
    "kernelspec": {
      "name": "python3",
      "display_name": "Python 3"
    },
    "language_info": {
      "name": "python"
    }
  },
  "cells": [
    {
      "cell_type": "markdown",
      "metadata": {
        "id": "view-in-github",
        "colab_type": "text"
      },
      "source": [
        "<a href=\"https://colab.research.google.com/github/drAshcroft/MAT421_Brian/blob/main/HW_Chapter1.ipynb\" target=\"_parent\"><img src=\"https://colab.research.google.com/assets/colab-badge.svg\" alt=\"Open In Colab\"/></a>"
      ]
    },
    {
      "cell_type": "code",
      "execution_count": 10,
      "metadata": {
        "id": "KGOVX2ks0qG6"
      },
      "outputs": [],
      "source": [
        "import numpy as np\n",
        "import matplotlib.pyplot as plt"
      ]
    },
    {
      "cell_type": "markdown",
      "source": [
        "Example of binary encoding of numbers"
      ],
      "metadata": {
        "id": "cwLtBtp71jYa"
      }
    },
    {
      "cell_type": "code",
      "source": [
        "print(100,'=',bin(100),'\\n',32,'=',bin(32),'\\n', 56734, '=', bin(56734))\n",
        "\n"
      ],
      "metadata": {
        "colab": {
          "base_uri": "https://localhost:8080/"
        },
        "id": "CaCkV2jp1o0H",
        "outputId": "f3a71ff7-2da2-4dc7-e30c-c4be7a091f27"
      },
      "execution_count": 5,
      "outputs": [
        {
          "output_type": "stream",
          "name": "stdout",
          "text": [
            "100 = 0b1100100 \n",
            " 32 = 0b100000 \n",
            " 56734 = 0b1101110110011110\n"
          ]
        }
      ]
    },
    {
      "cell_type": "markdown",
      "source": [
        "Examples of mathematical operations of binary numbers. Python can often do type conversions automatically"
      ],
      "metadata": {
        "id": "ROfoXu813jlW"
      }
    },
    {
      "cell_type": "code",
      "source": [
        "x=0b1100100 \n",
        "y=0b100000 \n",
        "z= 0b1101110110011110\n",
        "\n",
        "print('0b1100100 * 0b100000 =',x*y)\n",
        "print('0b100000  * 0b1101110110011110 =',y/z)\n",
        "print('0b1100100 * 0b1101110110011110 =',x+z)"
      ],
      "metadata": {
        "colab": {
          "base_uri": "https://localhost:8080/"
        },
        "id": "tXWND0Di1Dvo",
        "outputId": "a61a54b3-f9e7-48ce-9978-780c10200184"
      },
      "execution_count": 8,
      "outputs": [
        {
          "output_type": "stream",
          "name": "stdout",
          "text": [
            "0b1100100 * 0b100000 = 3200\n",
            "0b100000  * 0b1101110110011110 = 0.00056403567525646\n",
            "0b1100100 * 0b1101110110011110 = 56834\n"
          ]
        }
      ]
    },
    {
      "cell_type": "markdown",
      "source": [
        "Floating point numbers cannot be exactly specified in computers, so they are estimated by using 3 numbers to specify the sign, nearest lower power of 2, and fraction.  The book gives a simple method to load the values with python\n"
      ],
      "metadata": {
        "id": "dVLiNwah4eGF"
      }
    },
    {
      "cell_type": "code",
      "source": [
        "import sys\n",
        "sys.float_info"
      ],
      "metadata": {
        "colab": {
          "base_uri": "https://localhost:8080/"
        },
        "id": "uPlM1S1r35v-",
        "outputId": "a1b4a41e-be18-488d-a726-ff4010094091"
      },
      "execution_count": 9,
      "outputs": [
        {
          "output_type": "execute_result",
          "data": {
            "text/plain": [
              "sys.float_info(max=1.7976931348623157e+308, max_exp=1024, max_10_exp=308, min=2.2250738585072014e-308, min_exp=-1021, min_10_exp=-307, dig=15, mant_dig=53, epsilon=2.220446049250313e-16, radix=2, rounds=1)"
            ]
          },
          "metadata": {},
          "execution_count": 9
        }
      ]
    },
    {
      "cell_type": "code",
      "source": [
        "numbers=2**np.linspace(1,1000,5000)+3\n",
        "plt.plot( numbers,  np.spacing(numbers))\n",
        "plt.xlabel('Floating point number')\n",
        "plt.ylabel('Spacing')\n",
        "plt.title('Error in floating point representation')\n",
        "plt.show()"
      ],
      "metadata": {
        "colab": {
          "base_uri": "https://localhost:8080/",
          "height": 295
        },
        "id": "Tsphh6uZ4sWr",
        "outputId": "d2d9642e-aba4-4494-ae3c-c5b2ac22e9b0"
      },
      "execution_count": 15,
      "outputs": [
        {
          "output_type": "display_data",
          "data": {
            "text/plain": [
              "<Figure size 432x288 with 1 Axes>"
            ],
            "image/png": "[encoded data removed]"
          },
          "metadata": {
            "needs_background": "light"
          }
        }
      ]
    },
    {
      "cell_type": "markdown",
      "source": [
        "Largest and smallest numbers are specified in system info and a few special numbers can also be encoded (infinity, nan, -infinity)"
      ],
      "metadata": {
        "id": "xN3nVAMl5-_t"
      }
    },
    {
      "cell_type": "code",
      "source": [
        "largest = (2**(2046-1023))*((1 + sum(0.5**np.arange(1, 53))))\n",
        "\n",
        "smallest = (2**(1-1023))*(1+0)\n",
        "\n",
        "print('largest',largest, largest==sys.float_info.max)\n",
        "print('smallest',smallest, smallest==sys.float_info.min)\n",
        "\n",
        "print('largest cannot add',(largest+1.0), largest==(largest+1.0))\n",
        "\n",
        "print('but largest + largest =',largest+largest )\n",
        "\n",
        "print('smallest=', 2**(-1074))\n",
        "print('smallest divided by 2=', 2**(-1074)/2)\n",
        " "
      ],
      "metadata": {
        "colab": {
          "base_uri": "https://localhost:8080/"
        },
        "id": "YT13VS915927",
        "outputId": "2a7229ea-bd0b-47cf-b0ef-d9a88880a111"
      },
      "execution_count": 33,
      "outputs": [
        {
          "output_type": "stream",
          "name": "stdout",
          "text": [
            "largest 1.7976931348623157e+308 True\n",
            "smallest 2.2250738585072014e-308 True\n",
            "largest cannot add 1.7976931348623157e+308 True\n",
            "but largest + largest = inf\n",
            "smallest 5e-324\n",
            "smallest divided by 2 0.0\n"
          ]
        }
      ]
    },
    {
      "cell_type": "markdown",
      "source": [
        "Because numbers cannot be exactly represented in memory, rounding errors can cause problems. a number of simple examples can be created."
      ],
      "metadata": {
        "id": "R5XBg5_p8kJ_"
      }
    },
    {
      "cell_type": "code",
      "source": [
        "\"Incorrect division results, 10/3.0=\",  10/3.0"
      ],
      "metadata": {
        "colab": {
          "base_uri": "https://localhost:8080/"
        },
        "id": "Yf8qHfO38jFQ",
        "outputId": "d687d7c7-336d-420c-bfa7-accae5e6119b"
      },
      "execution_count": 42,
      "outputs": [
        {
          "output_type": "execute_result",
          "data": {
            "text/plain": [
              "('Incorrect division results, 10/3.0=', 3.3333333333333335)"
            ]
          },
          "metadata": {},
          "execution_count": 42
        }
      ]
    },
    {
      "cell_type": "code",
      "source": [
        "\"Incorrect addition .1 + .2 + .3 = \", .1+.2+.3,.1+.2+.3 ==.6"
      ],
      "metadata": {
        "colab": {
          "base_uri": "https://localhost:8080/"
        },
        "id": "8hQ-4Skm5MXs",
        "outputId": "7c8e2a96-6f9b-468b-b119-aa3975ada5f6"
      },
      "execution_count": 44,
      "outputs": [
        {
          "output_type": "execute_result",
          "data": {
            "text/plain": [
              "('Incorrect addition .1 + .2 + .3 = ', 0.6000000000000001, False)"
            ]
          },
          "metadata": {},
          "execution_count": 44
        }
      ]
    },
    {
      "cell_type": "markdown",
      "source": [
        "Roundoff error can cause catastrophic failures, unless the number can be exactly represented by the floating points (1/2):"
      ],
      "metadata": {
        "id": "zuY9HrDf-ZMR"
      }
    },
    {
      "cell_type": "code",
      "source": [
        "def add_and_subtract(iterations, eps): \n",
        "    result = 1 \n",
        "     \n",
        "    for i in range(iterations): \n",
        "        result += eps\n",
        " \n",
        "    for i in range(iterations): \n",
        "        result -= eps\n",
        "    return result \n",
        "\n",
        "errors = np.zeros(5000)\n",
        "for i in range(5000):\n",
        "  errors[i]=add_and_subtract(i,1/3.0)\n",
        "plt.plot(errors-1, label='1/3')  \n",
        "\n",
        "for i in range(5000):\n",
        "  errors[i]=add_and_subtract(i,1/2.0)\n",
        "plt.plot(errors-1, label='1/2')  \n",
        "\n",
        "for i in range(5000):\n",
        "  errors[i]=add_and_subtract(i,1/5.0)\n",
        "plt.plot(errors-1, label='1/5')  \n",
        "\n",
        "plt.xlabel('Number of Iterations')\n",
        "plt.ylabel('Deviations from 1')\n",
        "plt.legend()\n",
        "plt.show()"
      ],
      "metadata": {
        "colab": {
          "base_uri": "https://localhost:8080/",
          "height": 290
        },
        "id": "69FF1GwP-Xyu",
        "outputId": "6ea8424a-ed3f-44cc-9d0b-13f979607b4e"
      },
      "execution_count": 52,
      "outputs": [
        {
          "output_type": "display_data",
          "data": {
            "text/plain": [
              "<Figure size 432x288 with 1 Axes>"
            ],
            "image/png": "[encoded data removed]"
          },
          "metadata": {
            "needs_background": "light"
          }
        }
      ]
    },
    {
      "cell_type": "code",
      "source": [],
      "metadata": {
        "id": "fNFJLCh79PP3"
      },
      "execution_count": null,
      "outputs": []
    }
  ]
}